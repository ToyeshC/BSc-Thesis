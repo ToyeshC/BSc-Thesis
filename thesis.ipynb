{
  "cells": [
    {
      "attachments": {},
      "cell_type": "markdown",
      "metadata": {
        "id": "reF3lSc5Ijt2"
      },
      "source": [
        "# Importing libraries"
      ]
    },
    {
      "cell_type": "code",
      "execution_count": 18,
      "metadata": {
        "colab": {
          "base_uri": "https://localhost:8080/"
        },
        "id": "7UtO-cl8Ijt_",
        "outputId": "738c1915-7011-43fc-9588-cce7188fb86a"
      },
      "outputs": [
        {
          "name": "stderr",
          "output_type": "stream",
          "text": [
            "[nltk_data] Downloading package stopwords to\n",
            "[nltk_data]     /Users/toyesh/nltk_data...\n",
            "[nltk_data]   Package stopwords is already up-to-date!\n",
            "[nltk_data] Downloading package punkt to /Users/toyesh/nltk_data...\n",
            "[nltk_data]   Package punkt is already up-to-date!\n"
          ]
        }
      ],
      "source": [
        "import nltk\n",
        "nltk.download('stopwords')\n",
        "nltk.download('punkt')\n",
        "\n",
        "import pandas as pd\n",
        "from nltk.cluster import KMeansClusterer\n",
        "from sklearn.cluster import KMeans\n",
        "from sklearn.feature_extraction.text import TfidfVectorizer\n",
        "from sklearn.decomposition import LatentDirichletAllocation\n",
        "from nltk.tokenize import WordPunctTokenizer, sent_tokenize\n",
        "from nltk.corpus import stopwords\n",
        "import gensim\n",
        "from gensim.corpora import Dictionary\n",
        "from gensim.models import CoherenceModel\n",
        "\n",
        "import networkx as nx\n",
        "import matplotlib.pyplot as plt\n",
        "\n",
        "import warnings\n",
        "warnings.filterwarnings(\"ignore\")"
      ]
    },
    {
      "attachments": {},
      "cell_type": "markdown",
      "metadata": {
        "id": "KF7KxUt0IjuD"
      },
      "source": [
        "# Importing dataset"
      ]
    },
    {
      "cell_type": "code",
      "execution_count": 2,
      "metadata": {
        "id": "7Xi2kWdRIjuH"
      },
      "outputs": [],
      "source": [
        "df_master = pd.read_csv('/Users/toyesh/Documents/College Work/Year 2022-23/Thesis/comments.csv', sep=';')"
      ]
    },
    {
      "cell_type": "code",
      "execution_count": 16,
      "metadata": {
        "id": "-daSQJLgIjuK"
      },
      "outputs": [],
      "source": [
        "df = df_master.head(10000)"
      ]
    },
    {
      "attachments": {},
      "cell_type": "markdown",
      "metadata": {
        "id": "51XzZYiFIjuL"
      },
      "source": [
        "# Data pre-processing"
      ]
    },
    {
      "cell_type": "code",
      "execution_count": 19,
      "metadata": {
        "id": "HJS5UY4fIjuM"
      },
      "outputs": [],
      "source": [
        "tokenizer = WordPunctTokenizer()\n",
        "stopwords = set(stopwords.words('dutch'))\n",
        "\n",
        "preprocessed_comments = []\n",
        "\n",
        "for comment in df['text']:\n",
        "    tokens = tokenizer.tokenize(comment.lower())\n",
        "    tokens = [token for token in tokens if token.isalpha()]\n",
        "    tokens = [token for token in tokens if token not in stopwords]\n",
        "    preprocessed_comments.append(' '.join(tokens))"
      ]
    },
    {
      "attachments": {},
      "cell_type": "markdown",
      "metadata": {
        "id": "Cchf0raiIjuP"
      },
      "source": [
        "# Objective vs. subjective classification: post level"
      ]
    },
    {
      "cell_type": "code",
      "execution_count": 20,
      "metadata": {
        "id": "p81tfOBlBlL0"
      },
      "outputs": [],
      "source": [
        "vectorizer = TfidfVectorizer()\n",
        "comment_vectors = vectorizer.fit_transform(preprocessed_comments)\n",
        "\n",
        "k = 2  # number of clusters (objective and subjective)\n",
        "clusterer = KMeansClusterer(k, distance=nltk.cluster.util.cosine_distance, repeats=25)\n",
        "cluster_labels = clusterer.cluster(comment_vectors.toarray(), assign_clusters=True)\n",
        "\n",
        "df['comment_label'] = [1 if label == 0 else 0 for label in cluster_labels]"
      ]
    },
    {
      "attachments": {},
      "cell_type": "markdown",
      "metadata": {
        "id": "W2WPZaMTBKpX"
      },
      "source": [
        "# Objective vs. subjective classification: sentence level"
      ]
    },
    {
      "cell_type": "code",
      "execution_count": 21,
      "metadata": {
        "colab": {
          "base_uri": "https://localhost:8080/"
        },
        "id": "g1CAWoKQBYdk",
        "outputId": "61ef8b61-ea74-47c4-9b56-664472180808"
      },
      "outputs": [],
      "source": [
        "df['sentences'] = df['text'].apply(nltk.sent_tokenize)\n",
        "sentences = [sentence for sentences in df['sentences'] for sentence in sentences]\n",
        "sentence_vectors = vectorizer.fit_transform(sentences)\n",
        "sentence_clusterer = KMeans(n_clusters=k)\n",
        "sentence_cluster_labels = sentence_clusterer.fit_predict(sentence_vectors)\n",
        "df['sentence_cluster_labels'] = df['sentences'].apply(lambda sentences: [sentence_cluster_labels[i] for i in range(len(sentences))])\n",
        "df['sentence_comment_label'] = df['sentence_cluster_labels'].apply(lambda labels: 1 if sum(labels) > len(labels) / 2 else 0)"
      ]
    },
    {
      "attachments": {},
      "cell_type": "markdown",
      "metadata": {},
      "source": [
        "# Post level vs sentence level classification comparison"
      ]
    },
    {
      "cell_type": "code",
      "execution_count": 22,
      "metadata": {},
      "outputs": [
        {
          "name": "stdout",
          "output_type": "stream",
          "text": [
            "Similarity between original and new implementations: 0.5836\n"
          ]
        }
      ],
      "source": [
        "original_labels = df['comment_label']\n",
        "similarity = (df['sentence_comment_label'] == original_labels).mean()\n",
        "print(f\"Similarity between original and new implementations: {similarity}\")"
      ]
    },
    {
      "attachments": {},
      "cell_type": "markdown",
      "metadata": {
        "id": "D2oUCIwNIjuU"
      },
      "source": [
        "# Thread structure analysis"
      ]
    },
    {
      "cell_type": "code",
      "execution_count": 23,
      "metadata": {
        "id": "X9m5DWzUIjuV"
      },
      "outputs": [],
      "source": [
        "threads = {}\n",
        "\n",
        "for index, row in df.iterrows():\n",
        "    comment_id = row['comment_id']\n",
        "    parent_id = row['comment_parent_id']\n",
        "    comment_type = cluster_labels[index]\n",
        "\n",
        "    if pd.isnull(parent_id) or parent_id not in threads:\n",
        "        threads[comment_id] = {'comment': preprocessed_comments[index], 'replies': [], 'type': comment_type, 'subjective_count': 0, 'objective_count': 0}\n",
        "    else:\n",
        "        parent_thread = threads[parent_id]\n",
        "        parent_thread['replies'].append({'comment': preprocessed_comments[index], 'comment_id': comment_id, 'type': comment_type})\n",
        "\n",
        "for thread_id, thread in threads.items():\n",
        "    thread['subjective_count'] = sum(reply['type'] == 1 for reply in thread['replies'])\n",
        "    thread['objective_count'] = sum(reply['type'] == 0 for reply in thread['replies'])"
      ]
    },
    {
      "attachments": {},
      "cell_type": "markdown",
      "metadata": {
        "id": "a-7F0jZUOEBk"
      },
      "source": [
        "# Analysing patterns in thread structures"
      ]
    },
    {
      "cell_type": "code",
      "execution_count": 24,
      "metadata": {
        "id": "3dFYEDo9OIpV"
      },
      "outputs": [],
      "source": [
        "patterns = []\n",
        "\n",
        "for thread_id, thread in threads.items():\n",
        "    parent_type = thread['type']\n",
        "    reply_types = [reply['type'] for reply in thread['replies']]\n",
        "\n",
        "    if reply_types:\n",
        "        if all(reply_type == 1 for reply_type in reply_types):\n",
        "            patterns.append({'pattern': 'Objective comment replied on by only subjective posts', 'comment': thread['comment'], 'replies': [reply['comment'] for reply in thread['replies']]})\n",
        "\n",
        "        if all(reply_type == 0 for reply_type in reply_types):\n",
        "            patterns.append({'pattern': 'Subjective comment with only objective replies', 'comment': thread['comment'], 'replies': [reply['comment'] for reply in thread['replies']]})\n",
        "\n",
        "        if any(reply_type != parent_type for reply_type in reply_types):\n",
        "            patterns.append({'pattern': 'Subjective comment with both objective and subjective replies', 'comment': thread['comment'], 'replies': [reply['comment'] for reply in thread['replies']]})"
      ]
    },
    {
      "attachments": {},
      "cell_type": "markdown",
      "metadata": {
        "id": "1tG9jF3fafLX"
      },
      "source": [
        "# Hierarchy visualisation"
      ]
    },
    {
      "cell_type": "code",
      "execution_count": null,
      "metadata": {
        "colab": {
          "base_uri": "https://localhost:8080/",
          "height": 676
        },
        "id": "pzOkAYpwaijp",
        "outputId": "4c670833-205c-4987-94a6-1410fe370fa3"
      },
      "outputs": [],
      "source": [
        "graph = nx.DiGraph()\n",
        "\n",
        "for thread_id, thread in threads.items():\n",
        "    graph.add_node(thread_id, comment=thread['comment'], type=thread['type'])\n",
        "\n",
        "    for reply in thread['replies']:\n",
        "        graph.add_node(reply['comment_id'], comment=reply['comment'], type=reply['type'])\n",
        "\n",
        "for thread_id, thread in threads.items():\n",
        "    for reply in thread['replies']:\n",
        "        graph.add_edge(thread_id, reply['comment_id'])\n",
        "\n",
        "plt.figure(figsize=(100, 50))\n",
        "pos = nx.spring_layout(graph)\n",
        "\n",
        "objective_nodes = [node for node, data in graph.nodes(data=True) if data['type'] == 0]\n",
        "subjective_nodes = [node for node, data in graph.nodes(data=True) if data['type'] == 1]\n",
        "\n",
        "nx.draw_networkx_nodes(graph, pos, nodelist=objective_nodes, node_size=300, node_color='blue')\n",
        "nx.draw_networkx_nodes(graph, pos, nodelist=subjective_nodes, node_size=300, node_color='red')\n",
        "nx.draw_networkx_edges(graph, pos, arrows=True)\n",
        "\n",
        "node_labels = {node: data['comment'] for node, data in graph.nodes(data=True)}\n",
        "nx.draw_networkx_labels(graph, pos, labels=node_labels, font_size=8)\n",
        "\n",
        "plt.title(\"Comment Thread Visualization\")\n",
        "plt.axis('off')\n",
        "# plt.show()\n"
      ]
    },
    {
      "attachments": {},
      "cell_type": "markdown",
      "metadata": {
        "id": "WrQRVggBIjuZ"
      },
      "source": [
        "# Topic Modeling"
      ]
    },
    {
      "cell_type": "code",
      "execution_count": 26,
      "metadata": {
        "colab": {
          "base_uri": "https://localhost:8080/"
        },
        "id": "a99LkmluIjua",
        "outputId": "c294407f-e0d3-40a2-9ea9-441098454bf0"
      },
      "outputs": [],
      "source": [
        "num_topics = 5\n",
        "dictionary = gensim.corpora.Dictionary([comment.split() for comment in preprocessed_comments])\n",
        "corpus = [dictionary.doc2bow(comment.split()) for comment in preprocessed_comments]\n",
        "lda = gensim.models.LdaModel(corpus=corpus, id2word=dictionary, num_topics=num_topics, random_state=0)\n"
      ]
    },
    {
      "attachments": {},
      "cell_type": "markdown",
      "metadata": {
        "id": "skZB4bDOIjub"
      },
      "source": [
        "# Evaluating topic modelling"
      ]
    },
    {
      "cell_type": "code",
      "execution_count": 27,
      "metadata": {
        "colab": {
          "base_uri": "https://localhost:8080/"
        },
        "id": "iKlEGo07Ijuc",
        "outputId": "58dc61cc-fdfc-4a4d-aba3-f62387729252"
      },
      "outputs": [
        {
          "name": "stdout",
          "output_type": "stream",
          "text": [
            "UMass Coherence Score: -2.728337989040465\n"
          ]
        }
      ],
      "source": [
        "coherence_model = CoherenceModel(model=lda, texts=[comment.split() for comment in preprocessed_comments], dictionary=dictionary, coherence='u_mass')\n",
        "umass_coherence_score = coherence_model.get_coherence()\n",
        "\n",
        "print(f\"UMass Coherence Score: {umass_coherence_score}\")"
      ]
    },
    {
      "attachments": {},
      "cell_type": "markdown",
      "metadata": {
        "id": "buTKJAo1NBJ7"
      },
      "source": [
        "# Temporal analysis"
      ]
    },
    {
      "cell_type": "code",
      "execution_count": 28,
      "metadata": {
        "colab": {
          "base_uri": "https://localhost:8080/",
          "height": 564
        },
        "id": "PPWhpjN7WAa4",
        "outputId": "162d2dc1-b8f3-4044-d622-b8f4c334cf94"
      },
      "outputs": [
        {
          "data": {
            "image/png": "[encoded data removed]",
            "text/plain": [
              "<Figure size 1000x600 with 1 Axes>"
            ]
          },
          "metadata": {},
          "output_type": "display_data"
        }
      ],
      "source": [
        "df['timestamp'] = df['timestamp'] = pd.to_datetime(df['created_at'], format='%Y-%m-%d %H:%M:%S.%f')\n",
        "df = df.sort_values('timestamp')\n",
        "\n",
        "subjective_counts = []\n",
        "objective_counts = []\n",
        "\n",
        "for index, row in df.iterrows():\n",
        "    timestamp = row['timestamp']\n",
        "    comment_type = row['comment_label']\n",
        "\n",
        "    subjective_count = sum(df.loc[df['timestamp'] <= timestamp, 'comment_label'] == 1)\n",
        "    objective_count = sum(df.loc[df['timestamp'] <= timestamp, 'comment_label'] == 0)\n",
        "\n",
        "    subjective_counts.append(subjective_count)\n",
        "    objective_counts.append(objective_count)\n",
        "\n",
        "df['subjective_count'] = subjective_counts\n",
        "df['objective_count'] = objective_counts\n",
        "\n",
        "plt.figure(figsize=(10, 6))\n",
        "plt.plot(df['timestamp'], df['subjective_count'], label='Subjective')\n",
        "plt.plot(df['timestamp'], df['objective_count'], label='Objective')\n",
        "plt.xlabel('Timestamp')\n",
        "plt.ylabel('Comment Count')\n",
        "plt.title('Temporal Development of Subjective and Objective Comments')\n",
        "plt.legend()\n",
        "plt.show()"
      ]
    },
    {
      "attachments": {},
      "cell_type": "markdown",
      "metadata": {
        "id": "QLfO--Y5Ijue"
      },
      "source": [
        "# Summary"
      ]
    },
    {
      "cell_type": "code",
      "execution_count": 29,
      "metadata": {
        "id": "Y6cWlyoUIjuf"
      },
      "outputs": [],
      "source": [
        "num_subjective = sum(cluster_labels)\n",
        "num_objective = len(cluster_labels) - num_subjective\n",
        "\n",
        "summary = \"Discussion Summary:\\n\\n\"\n",
        "summary += f\"Number of Subjective Opinions (Comments): {num_subjective}\\n\"\n",
        "summary += f\"Number of Objective Opinions (Comments): {num_objective}\\n\\n\"\n",
        "\n",
        "summary += \"Thread Analysis:\\n\"\n",
        "for thread_id, thread in threads.items():\n",
        "    if thread['replies']:\n",
        "        summary += f\"Parent Comment: {thread['comment']} (Type: {'Subjective' if thread['type'] == 1 else 'Objective'})\\n\"\n",
        "        summary += f\"\\tSubjective Replies: {thread['subjective_count']}\\n\"\n",
        "        summary += f\"\\tObjective Replies: {thread['objective_count']}\\n\"\n",
        "\n",
        "        for reply in thread['replies']:\n",
        "            summary += f\"\\tReply Comment: {reply['comment']} (Type: {'Subjective' if reply['type'] == 1 else 'Objective'})\\n\"\n",
        "\n",
        "        summary += \"\\n\"\n",
        "\n",
        "summary += \"Pattern Analysis:\\n\"\n",
        "for pattern in patterns:\n",
        "    summary += f\"- Pattern: {pattern['pattern']}\\n\"\n",
        "    summary += f\"  Comment: {pattern['comment']}\\n\"\n",
        "    summary += f\"  Replies:\\n\"\n",
        "    for reply in pattern['replies']:\n",
        "        summary += f\"  - {reply}\\n\"\n",
        "    summary += \"\\n\"\n",
        "\n",
        "summary += \"\\nTopic Modeling:\\n\"\n",
        "for i, topic in enumerate(lda.get_topics()):\n",
        "    summary += f\"Topic {i+1} - Top Words: {', '.join([vectorizer.get_feature_names_out()[index] for index in topic.argsort()[:-6:-1]])}\\n\""
      ]
    },
    {
      "attachments": {},
      "cell_type": "markdown",
      "metadata": {
        "id": "eU9msAGVIjug"
      },
      "source": [
        "# Displaying results"
      ]
    },
    {
      "cell_type": "code",
      "execution_count": 32,
      "metadata": {
        "colab": {
          "base_uri": "https://localhost:8080/"
        },
        "id": "fGEJXbGAIjug",
        "outputId": "deff282f-d318-4af5-f12b-8f074fbd68d6"
      },
      "outputs": [],
      "source": [
        "# print(summary)"
      ]
    },
    {
      "cell_type": "code",
      "execution_count": 31,
      "metadata": {
        "id": "c8AKlXnsflT8"
      },
      "outputs": [],
      "source": [
        "file_path = \"/Users/toyesh/Documents/College Work/Year 2022-23/Thesis/summary.txt\"\n",
        "\n",
        "with open(file_path, \"w\") as file:\n",
        "    file.write(summary)"
      ]
    },
    {
      "cell_type": "code",
      "execution_count": null,
      "metadata": {},
      "outputs": [],
      "source": []
    }
  ],
  "metadata": {
    "colab": {
      "provenance": []
    },
    "kernelspec": {
      "display_name": "Python 3",
      "language": "python",
      "name": "python3"
    },
    "language_info": {
      "codemirror_mode": {
        "name": "ipython",
        "version": 3
      },
      "file_extension": ".py",
      "mimetype": "text/x-python",
      "name": "python",
      "nbconvert_exporter": "python",
      "pygments_lexer": "ipython3",
      "version": "3.10.5"
    }
  },
  "nbformat": 4,
  "nbformat_minor": 0
}
