{
  "nbformat": 4,
  "nbformat_minor": 0,
  "metadata": {
    "colab": {
      "provenance": [],
      "gpuType": "T4"
    },
    "kernelspec": {
      "name": "python3",
      "display_name": "Python 3"
    },
    "language_info": {
      "name": "python"
    },
    "accelerator": "GPU",
    "gpuClass": "standard"
  },
  "cells": [
    {
      "cell_type": "markdown",
      "source": [
        "# Importing libraries"
      ],
      "metadata": {
        "id": "DnHrkDRD68ow"
      }
    },
    {
      "cell_type": "code",
      "source": [
        "import pandas as pd\n",
        "import numpy as np\n",
        "import re\n",
        "import nltk\n",
        "nltk.download('stopwords')\n",
        "nltk.download('punkt')\n",
        "nltk.download('wordnet')\n",
        "from nltk.corpus import stopwords\n",
        "from nltk.stem import WordNetLemmatizer\n",
        "from gensim.corpora.dictionary import Dictionary\n",
        "from gensim.models.ldamodel import LdaModel\n",
        "from gensim.matutils import Sparse2Corpus\n",
        "import torch\n",
        "import torch.nn as nn\n",
        "import torch.optim as optim\n",
        "from sklearn.model_selection import train_test_split\n",
        "from sklearn.feature_extraction.text import TfidfVectorizer\n",
        "from sklearn.metrics.pairwise import cosine_similarity\n",
        "from sklearn.metrics import precision_recall_fscore_support, accuracy_score"
      ],
      "metadata": {
        "colab": {
          "base_uri": "https://localhost:8080/",
          "height": 0
        },
        "id": "xy_QwIYM7Anx",
        "outputId": "66a4daf7-3237-45b6-fa78-0c9f2f140d64"
      },
      "execution_count": 1,
      "outputs": [
        {
          "output_type": "stream",
          "name": "stderr",
          "text": [
            "[nltk_data] Downloading package stopwords to /root/nltk_data...\n",
            "[nltk_data]   Package stopwords is already up-to-date!\n",
            "[nltk_data] Downloading package punkt to /root/nltk_data...\n",
            "[nltk_data]   Package punkt is already up-to-date!\n",
            "[nltk_data] Downloading package wordnet to /root/nltk_data...\n",
            "[nltk_data]   Package wordnet is already up-to-date!\n"
          ]
        }
      ]
    },
    {
      "cell_type": "markdown",
      "source": [
        "# Importing dataset"
      ],
      "metadata": {
        "id": "Bfgs9grV7Tqi"
      }
    },
    {
      "cell_type": "code",
      "source": [
        "df_path = \"/content/drive/MyDrive/Colab Notebooks/BSc AI Thesis/comments.csv\"\n",
        "df = pd.read_csv(df_path, sep=';')"
      ],
      "metadata": {
        "id": "niytu_oq7XNF"
      },
      "execution_count": 2,
      "outputs": []
    },
    {
      "cell_type": "markdown",
      "source": [
        "## Using smaller version of the dataset at the moment\n"
      ],
      "metadata": {
        "id": "eRrmXWcEs_uR"
      }
    },
    {
      "cell_type": "code",
      "source": [
        "df_new = df.head(10)"
      ],
      "metadata": {
        "id": "XKF3KxzIja8R"
      },
      "execution_count": 3,
      "outputs": []
    },
    {
      "cell_type": "code",
      "source": [
        "df_new"
      ],
      "metadata": {
        "colab": {
          "base_uri": "https://localhost:8080/",
          "height": 1018
        },
        "id": "2s8SzCdFtyXx",
        "outputId": "3595fd81-7179-4c28-d970-25bf95dd3d58"
      },
      "execution_count": 4,
      "outputs": [
        {
          "output_type": "execute_result",
          "data": {
            "text/plain": [
              "   article_id                                         comment_id  \\\n",
              "0     6022089  e4b16b91be890d02645d916e0510fc3aeaf0ff4611fcf1...   \n",
              "1     6022089  2186fd4e53e9f28a7869bcacd9704ccc2e9a23ed5ff7bd...   \n",
              "2     6022089  47aff4e79476df437522230620f51c914ba92655e8e15c...   \n",
              "3     6022089  61b426c5d10c3bc59a58e524a9fcbe3c99179d9927b683...   \n",
              "4     6022089  b437305d79667335c923229f08a7554fab8da67d8f87d3...   \n",
              "5     6022089  2363be9fd56e9f52fbd683fbce014534d68628b38f095c...   \n",
              "6     6022089  e8161dca66bb39df4281ca94cd1b10f60878e54696e484...   \n",
              "7     6022089  bd9c88fdff8ebb297eead1eb99d631e5f325e6a7c69bb5...   \n",
              "8     6022089  6f767d597bea4668a41a05a0452365eb0aa470491d7793...   \n",
              "9     6022089  8e5be0cbd00915b5b21489b5a9ad20cedf6c6d3f6ed4c4...   \n",
              "\n",
              "  comment_parent_id                                            user_id  \\\n",
              "0               NaN  4a4185520266364333cc860c3600137451df43fed472d2...   \n",
              "1               NaN  64198bfd09320a5d2cec1bb0cec4c45e2f3e41df8546bb...   \n",
              "2               NaN  3c294720e416b3ffbd4d2c773d55a8f349fdff1983b199...   \n",
              "3               NaN  3a3d43abb7428e442b3dcb2a8762b917f1f88a3fc0fe70...   \n",
              "4               NaN  2b0605d35ebfc132355ee8055b838cded67e4507292ab5...   \n",
              "5               NaN  4f8f2451461ffff99458329404571e738645edcf576f18...   \n",
              "6               NaN  59b8093d7edc83c8f9f930864bc42cb5d3569751647ac4...   \n",
              "7               NaN  4c4ddaa15423e3e6aa99b5c28d40fbf143b928512c6956...   \n",
              "8               NaN  146970a0357d7d8bd036bdb12ca288acfe8d4ff5bd0d0d...   \n",
              "9               NaN  d9928331997d0b4f30d9e460a0682b1b5ceecd77f41b16...   \n",
              "\n",
              "                                                text  \\\n",
              "0  200 mln Ton koolstof verbrand! Daar kan de hel...   \n",
              "1  Als we Australië teruggeven zoals midnight oil...   \n",
              "2  Nu maar hopen dat dit soort rampen klimaatscep...   \n",
              "3  Sterkte voor Australië en ik ben ontzettend bl...   \n",
              "4  Goede uitleg. In het Engels vertalen en aan de...   \n",
              "5  Het is vrij eenvoudig, volgens de politie en b...   \n",
              "6  Ik vraag me af hoe veel signalen sommige polit...   \n",
              "7  Dit artikel geeft alleen aan waarom de branden...   \n",
              "8  Mijn liefde voor dieren hart huilt als ik beel...   \n",
              "9  Abel Tasman sprak in zijn reisverslagen al ove...   \n",
              "\n",
              "                   created_at    status  reply_count  respect_count  \\\n",
              "0  2020-01-06 20:26:17.955000  REJECTED            0              0   \n",
              "1  2020-01-06 20:29:29.129000  ACCEPTED            0              4   \n",
              "2  2020-01-06 20:31:13.092000  REJECTED            0              0   \n",
              "3  2020-01-06 20:35:37.316000  ACCEPTED            0              3   \n",
              "4  2020-01-06 20:39:02.719000  REJECTED            0              0   \n",
              "5  2020-01-06 20:40:04.248000  ACCEPTED            6             25   \n",
              "6  2020-01-06 20:41:11.588000  REJECTED            0              0   \n",
              "7  2020-01-06 20:43:28.236000  ACCEPTED            3              7   \n",
              "8  2020-01-06 20:43:36.391000  REJECTED            0              0   \n",
              "9  2020-01-06 20:46:21.174000  ACCEPTED           11             42   \n",
              "\n",
              "   is_featured  \n",
              "0        False  \n",
              "1        False  \n",
              "2        False  \n",
              "3        False  \n",
              "4        False  \n",
              "5        False  \n",
              "6        False  \n",
              "7        False  \n",
              "8        False  \n",
              "9        False  "
            ],
            "text/html": [
              "\n",
              "  <div id=\"df-0f6fea38-b16f-4458-832f-308a1fa4404c\">\n",
              "    <div class=\"colab-df-container\">\n",
              "      <div>\n",
              "<style scoped>\n",
              "    .dataframe tbody tr th:only-of-type {\n",
              "        vertical-align: middle;\n",
              "    }\n",
              "\n",
              "    .dataframe tbody tr th {\n",
              "        vertical-align: top;\n",
              "    }\n",
              "\n",
              "    .dataframe thead th {\n",
              "        text-align: right;\n",
              "    }\n",
              "</style>\n",
              "<table border=\"1\" class=\"dataframe\">\n",
              "  <thead>\n",
              "    <tr style=\"text-align: right;\">\n",
              "      <th></th>\n",
              "      <th>article_id</th>\n",
              "      <th>comment_id</th>\n",
              "      <th>comment_parent_id</th>\n",
              "      <th>user_id</th>\n",
              "      <th>text</th>\n",
              "      <th>created_at</th>\n",
              "      <th>status</th>\n",
              "      <th>reply_count</th>\n",
              "      <th>respect_count</th>\n",
              "      <th>is_featured</th>\n",
              "    </tr>\n",
              "  </thead>\n",
              "  <tbody>\n",
              "    <tr>\n",
              "      <th>0</th>\n",
              "      <td>6022089</td>\n",
              "      <td>e4b16b91be890d02645d916e0510fc3aeaf0ff4611fcf1...</td>\n",
              "      <td>NaN</td>\n",
              "      <td>4a4185520266364333cc860c3600137451df43fed472d2...</td>\n",
              "      <td>200 mln Ton koolstof verbrand! Daar kan de hel...</td>\n",
              "      <td>2020-01-06 20:26:17.955000</td>\n",
              "      <td>REJECTED</td>\n",
              "      <td>0</td>\n",
              "      <td>0</td>\n",
              "      <td>False</td>\n",
              "    </tr>\n",
              "    <tr>\n",
              "      <th>1</th>\n",
              "      <td>6022089</td>\n",
              "      <td>2186fd4e53e9f28a7869bcacd9704ccc2e9a23ed5ff7bd...</td>\n",
              "      <td>NaN</td>\n",
              "      <td>64198bfd09320a5d2cec1bb0cec4c45e2f3e41df8546bb...</td>\n",
              "      <td>Als we Australië teruggeven zoals midnight oil...</td>\n",
              "      <td>2020-01-06 20:29:29.129000</td>\n",
              "      <td>ACCEPTED</td>\n",
              "      <td>0</td>\n",
              "      <td>4</td>\n",
              "      <td>False</td>\n",
              "    </tr>\n",
              "    <tr>\n",
              "      <th>2</th>\n",
              "      <td>6022089</td>\n",
              "      <td>47aff4e79476df437522230620f51c914ba92655e8e15c...</td>\n",
              "      <td>NaN</td>\n",
              "      <td>3c294720e416b3ffbd4d2c773d55a8f349fdff1983b199...</td>\n",
              "      <td>Nu maar hopen dat dit soort rampen klimaatscep...</td>\n",
              "      <td>2020-01-06 20:31:13.092000</td>\n",
              "      <td>REJECTED</td>\n",
              "      <td>0</td>\n",
              "      <td>0</td>\n",
              "      <td>False</td>\n",
              "    </tr>\n",
              "    <tr>\n",
              "      <th>3</th>\n",
              "      <td>6022089</td>\n",
              "      <td>61b426c5d10c3bc59a58e524a9fcbe3c99179d9927b683...</td>\n",
              "      <td>NaN</td>\n",
              "      <td>3a3d43abb7428e442b3dcb2a8762b917f1f88a3fc0fe70...</td>\n",
              "      <td>Sterkte voor Australië en ik ben ontzettend bl...</td>\n",
              "      <td>2020-01-06 20:35:37.316000</td>\n",
              "      <td>ACCEPTED</td>\n",
              "      <td>0</td>\n",
              "      <td>3</td>\n",
              "      <td>False</td>\n",
              "    </tr>\n",
              "    <tr>\n",
              "      <th>4</th>\n",
              "      <td>6022089</td>\n",
              "      <td>b437305d79667335c923229f08a7554fab8da67d8f87d3...</td>\n",
              "      <td>NaN</td>\n",
              "      <td>2b0605d35ebfc132355ee8055b838cded67e4507292ab5...</td>\n",
              "      <td>Goede uitleg. In het Engels vertalen en aan de...</td>\n",
              "      <td>2020-01-06 20:39:02.719000</td>\n",
              "      <td>REJECTED</td>\n",
              "      <td>0</td>\n",
              "      <td>0</td>\n",
              "      <td>False</td>\n",
              "    </tr>\n",
              "    <tr>\n",
              "      <th>5</th>\n",
              "      <td>6022089</td>\n",
              "      <td>2363be9fd56e9f52fbd683fbce014534d68628b38f095c...</td>\n",
              "      <td>NaN</td>\n",
              "      <td>4f8f2451461ffff99458329404571e738645edcf576f18...</td>\n",
              "      <td>Het is vrij eenvoudig, volgens de politie en b...</td>\n",
              "      <td>2020-01-06 20:40:04.248000</td>\n",
              "      <td>ACCEPTED</td>\n",
              "      <td>6</td>\n",
              "      <td>25</td>\n",
              "      <td>False</td>\n",
              "    </tr>\n",
              "    <tr>\n",
              "      <th>6</th>\n",
              "      <td>6022089</td>\n",
              "      <td>e8161dca66bb39df4281ca94cd1b10f60878e54696e484...</td>\n",
              "      <td>NaN</td>\n",
              "      <td>59b8093d7edc83c8f9f930864bc42cb5d3569751647ac4...</td>\n",
              "      <td>Ik vraag me af hoe veel signalen sommige polit...</td>\n",
              "      <td>2020-01-06 20:41:11.588000</td>\n",
              "      <td>REJECTED</td>\n",
              "      <td>0</td>\n",
              "      <td>0</td>\n",
              "      <td>False</td>\n",
              "    </tr>\n",
              "    <tr>\n",
              "      <th>7</th>\n",
              "      <td>6022089</td>\n",
              "      <td>bd9c88fdff8ebb297eead1eb99d631e5f325e6a7c69bb5...</td>\n",
              "      <td>NaN</td>\n",
              "      <td>4c4ddaa15423e3e6aa99b5c28d40fbf143b928512c6956...</td>\n",
              "      <td>Dit artikel geeft alleen aan waarom de branden...</td>\n",
              "      <td>2020-01-06 20:43:28.236000</td>\n",
              "      <td>ACCEPTED</td>\n",
              "      <td>3</td>\n",
              "      <td>7</td>\n",
              "      <td>False</td>\n",
              "    </tr>\n",
              "    <tr>\n",
              "      <th>8</th>\n",
              "      <td>6022089</td>\n",
              "      <td>6f767d597bea4668a41a05a0452365eb0aa470491d7793...</td>\n",
              "      <td>NaN</td>\n",
              "      <td>146970a0357d7d8bd036bdb12ca288acfe8d4ff5bd0d0d...</td>\n",
              "      <td>Mijn liefde voor dieren hart huilt als ik beel...</td>\n",
              "      <td>2020-01-06 20:43:36.391000</td>\n",
              "      <td>REJECTED</td>\n",
              "      <td>0</td>\n",
              "      <td>0</td>\n",
              "      <td>False</td>\n",
              "    </tr>\n",
              "    <tr>\n",
              "      <th>9</th>\n",
              "      <td>6022089</td>\n",
              "      <td>8e5be0cbd00915b5b21489b5a9ad20cedf6c6d3f6ed4c4...</td>\n",
              "      <td>NaN</td>\n",
              "      <td>d9928331997d0b4f30d9e460a0682b1b5ceecd77f41b16...</td>\n",
              "      <td>Abel Tasman sprak in zijn reisverslagen al ove...</td>\n",
              "      <td>2020-01-06 20:46:21.174000</td>\n",
              "      <td>ACCEPTED</td>\n",
              "      <td>11</td>\n",
              "      <td>42</td>\n",
              "      <td>False</td>\n",
              "    </tr>\n",
              "  </tbody>\n",
              "</table>\n",
              "</div>\n",
              "      <button class=\"colab-df-convert\" onclick=\"convertToInteractive('df-0f6fea38-b16f-4458-832f-308a1fa4404c')\"\n",
              "              title=\"Convert this dataframe to an interactive table.\"\n",
              "              style=\"display:none;\">\n",
              "        \n",
              "  <svg xmlns=\"http://www.w3.org/2000/svg\" height=\"24px\"viewBox=\"0 0 24 24\"\n",
              "       width=\"24px\">\n",
              "    <path d=\"M0 0h24v24H0V0z\" fill=\"none\"/>\n",
              "    <path d=\"M18.56 5.44l.94 2.06.94-2.06 2.06-.94-2.06-.94-.94-2.06-.94 2.06-2.06.94zm-11 1L8.5 8.5l.94-2.06 2.06-.94-2.06-.94L8.5 2.5l-.94 2.06-2.06.94zm10 10l.94 2.06.94-2.06 2.06-.94-2.06-.94-.94-2.06-.94 2.06-2.06.94z\"/><path d=\"M17.41 7.96l-1.37-1.37c-.4-.4-.92-.59-1.43-.59-.52 0-1.04.2-1.43.59L10.3 9.45l-7.72 7.72c-.78.78-.78 2.05 0 2.83L4 21.41c.39.39.9.59 1.41.59.51 0 1.02-.2 1.41-.59l7.78-7.78 2.81-2.81c.8-.78.8-2.07 0-2.86zM5.41 20L4 18.59l7.72-7.72 1.47 1.35L5.41 20z\"/>\n",
              "  </svg>\n",
              "      </button>\n",
              "      \n",
              "  <style>\n",
              "    .colab-df-container {\n",
              "      display:flex;\n",
              "      flex-wrap:wrap;\n",
              "      gap: 12px;\n",
              "    }\n",
              "\n",
              "    .colab-df-convert {\n",
              "      background-color: #E8F0FE;\n",
              "      border: none;\n",
              "      border-radius: 50%;\n",
              "      cursor: pointer;\n",
              "      display: none;\n",
              "      fill: #1967D2;\n",
              "      height: 32px;\n",
              "      padding: 0 0 0 0;\n",
              "      width: 32px;\n",
              "    }\n",
              "\n",
              "    .colab-df-convert:hover {\n",
              "      background-color: #E2EBFA;\n",
              "      box-shadow: 0px 1px 2px rgba(60, 64, 67, 0.3), 0px 1px 3px 1px rgba(60, 64, 67, 0.15);\n",
              "      fill: #174EA6;\n",
              "    }\n",
              "\n",
              "    [theme=dark] .colab-df-convert {\n",
              "      background-color: #3B4455;\n",
              "      fill: #D2E3FC;\n",
              "    }\n",
              "\n",
              "    [theme=dark] .colab-df-convert:hover {\n",
              "      background-color: #434B5C;\n",
              "      box-shadow: 0px 1px 3px 1px rgba(0, 0, 0, 0.15);\n",
              "      filter: drop-shadow(0px 1px 2px rgba(0, 0, 0, 0.3));\n",
              "      fill: #FFFFFF;\n",
              "    }\n",
              "  </style>\n",
              "\n",
              "      <script>\n",
              "        const buttonEl =\n",
              "          document.querySelector('#df-0f6fea38-b16f-4458-832f-308a1fa4404c button.colab-df-convert');\n",
              "        buttonEl.style.display =\n",
              "          google.colab.kernel.accessAllowed ? 'block' : 'none';\n",
              "\n",
              "        async function convertToInteractive(key) {\n",
              "          const element = document.querySelector('#df-0f6fea38-b16f-4458-832f-308a1fa4404c');\n",
              "          const dataTable =\n",
              "            await google.colab.kernel.invokeFunction('convertToInteractive',\n",
              "                                                     [key], {});\n",
              "          if (!dataTable) return;\n",
              "\n",
              "          const docLinkHtml = 'Like what you see? Visit the ' +\n",
              "            '<a target=\"_blank\" href=https://colab.research.google.com/notebooks/data_table.ipynb>data table notebook</a>'\n",
              "            + ' to learn more about interactive tables.';\n",
              "          element.innerHTML = '';\n",
              "          dataTable['output_type'] = 'display_data';\n",
              "          await google.colab.output.renderOutput(dataTable, element);\n",
              "          const docLink = document.createElement('div');\n",
              "          docLink.innerHTML = docLinkHtml;\n",
              "          element.appendChild(docLink);\n",
              "        }\n",
              "      </script>\n",
              "    </div>\n",
              "  </div>\n",
              "  "
            ]
          },
          "metadata": {},
          "execution_count": 4
        }
      ]
    },
    {
      "cell_type": "markdown",
      "source": [
        "# Pre-processing"
      ],
      "metadata": {
        "id": "v9NHb0Xk7aRB"
      }
    },
    {
      "cell_type": "code",
      "source": [
        "# getting Dutch stop words\n",
        "stop_words = set(stopwords.words('dutch'))\n",
        "\n",
        "lemmatizer = WordNetLemmatizer()"
      ],
      "metadata": {
        "id": "wubkKMEn7eQt"
      },
      "execution_count": 5,
      "outputs": []
    },
    {
      "cell_type": "markdown",
      "source": [
        "## Cleaning the comments"
      ],
      "metadata": {
        "id": "NQ2leCLStIgS"
      }
    },
    {
      "cell_type": "code",
      "source": [
        "def clean_text(text):\n",
        "    # converitng comments to lowercase\n",
        "    text = text.lower()\n",
        "\n",
        "    # removing numbers and special characters\n",
        "    text = re.sub(r'\\d+', '', text)\n",
        "    text = re.sub(r'[^\\w\\s]', '', text)\n",
        "\n",
        "    # tokenisation\n",
        "    tokens = nltk.word_tokenize(text)\n",
        "\n",
        "    # lemmatising the tokens and removing the stop words\n",
        "    tokens = [lemmatizer.lemmatize(token) for token in tokens if token not in stop_words]\n",
        "\n",
        "    # Join tokens into a single string\n",
        "    clean_text = ' '.join(tokens)\n",
        "    return clean_text\n",
        "\n",
        "# new column with cleaned comments\n",
        "df_new['clean_text'] = df_new['text'].apply(clean_text)"
      ],
      "metadata": {
        "colab": {
          "base_uri": "https://localhost:8080/",
          "height": 0
        },
        "id": "WpMWrOsKtHfv",
        "outputId": "0e2b4fb6-3b62-416e-842d-eb92b22f5fbf"
      },
      "execution_count": 6,
      "outputs": [
        {
          "output_type": "stream",
          "name": "stderr",
          "text": [
            "<ipython-input-6-135122c2dd1d>:20: SettingWithCopyWarning: \n",
            "A value is trying to be set on a copy of a slice from a DataFrame.\n",
            "Try using .loc[row_indexer,col_indexer] = value instead\n",
            "\n",
            "See the caveats in the documentation: https://pandas.pydata.org/pandas-docs/stable/user_guide/indexing.html#returning-a-view-versus-a-copy\n",
            "  df_new['clean_text'] = df_new['text'].apply(clean_text)\n"
          ]
        }
      ]
    },
    {
      "cell_type": "code",
      "source": [
        "df_new['clean_text']"
      ],
      "metadata": {
        "colab": {
          "base_uri": "https://localhost:8080/",
          "height": 0
        },
        "id": "DbBtp9TJt4Tg",
        "outputId": "06bc20b8-6a20-4156-9b51-31632e8f2b59"
      },
      "execution_count": 7,
      "outputs": [
        {
          "output_type": "execute_result",
          "data": {
            "text/plain": [
              "0    mln ton koolstof verbrand hele wereld komende ...\n",
              "1    we australië teruggeven zoals midnight oil ooi...\n",
              "2    hopen soort rampen klimaatsceptici onze eigen ...\n",
              "3    sterkte australië ontzettend blij regering mil...\n",
              "4    goede uitleg engels vertalen australische prem...\n",
              "5    vrij eenvoudig volgens politie brandweer zon a...\n",
              "6    vraag af signalen sommige politici nodig snapp...\n",
              "7    artikel geeft alleen waarom branden lang blijv...\n",
              "8    liefde dieren hart huilt beelden zie ellende o...\n",
              "9    abel tasman sprak reisverslagen rookpluimen we...\n",
              "Name: clean_text, dtype: object"
            ]
          },
          "metadata": {},
          "execution_count": 7
        }
      ]
    },
    {
      "cell_type": "markdown",
      "source": [
        "# Feature extraction"
      ],
      "metadata": {
        "id": "BkL-hTG_OjFb"
      }
    },
    {
      "cell_type": "markdown",
      "source": [
        "## tf-idf BoW representaion"
      ],
      "metadata": {
        "id": "S3pisL4kvcr6"
      }
    },
    {
      "cell_type": "code",
      "source": [
        "vectorizer = TfidfVectorizer()\n",
        "tfidf_matrix = vectorizer.fit_transform(df_new['clean_text'])"
      ],
      "metadata": {
        "id": "bIa-1BnXOnLK"
      },
      "execution_count": 8,
      "outputs": []
    },
    {
      "cell_type": "code",
      "source": [
        "print(tfidf_matrix.toarray())"
      ],
      "metadata": {
        "colab": {
          "base_uri": "https://localhost:8080/",
          "height": 0
        },
        "id": "cLWqGX-qv_qD",
        "outputId": "be269cc6-568c-4b61-a44c-d19563c27748"
      },
      "execution_count": 9,
      "outputs": [
        {
          "output_type": "stream",
          "name": "stdout",
          "text": [
            "[[0.         0.         0.19126392 ... 0.         0.         0.        ]\n",
            " [0.         0.         0.         ... 0.25167057 0.25167057 0.        ]\n",
            " [0.         0.         0.         ... 0.         0.         0.        ]\n",
            " ...\n",
            " [0.         0.         0.         ... 0.         0.         0.        ]\n",
            " [0.         0.         0.         ... 0.         0.         0.        ]\n",
            " [0.         0.         0.         ... 0.         0.         0.110266  ]]\n"
          ]
        }
      ]
    },
    {
      "cell_type": "markdown",
      "source": [
        "## Topic modelling for extractive summary"
      ],
      "metadata": {
        "id": "pSOLDGFwvoD4"
      }
    },
    {
      "cell_type": "code",
      "source": [
        "word2id = vectorizer.vocabulary_\n",
        "id2word = {v: k for k, v in word2id.items()}\n",
        "corpus = Sparse2Corpus(tfidf_matrix, documents_columns=False)\n",
        "lda_model = LdaModel(corpus=corpus, num_topics=10, id2word=id2word, passes=10, iterations=100, chunksize=1000, alpha='auto', eta='auto', random_state=42)# Abstractive summarization"
      ],
      "metadata": {
        "id": "yivVGfrfvnh4"
      },
      "execution_count": 10,
      "outputs": []
    },
    {
      "cell_type": "code",
      "source": [
        "for i in lda_model.print_topics():\n",
        "  print(i)"
      ],
      "metadata": {
        "colab": {
          "base_uri": "https://localhost:8080/",
          "height": 0
        },
        "id": "wJRCWmQfwoDH",
        "outputId": "47df4422-aafa-4d92-d99e-68ce5e331cb7"
      },
      "execution_count": 11,
      "outputs": [
        {
          "output_type": "stream",
          "name": "stdout",
          "text": [
            "(0, '0.004*\"we\" + 0.004*\"onze\" + 0.004*\"hopen\" + 0.004*\"brengen\" + 0.004*\"branden\" + 0.004*\"natuur\" + 0.004*\"tijd\" + 0.004*\"australië\" + 0.004*\"soort\" + 0.004*\"klimaatverandering\"')\n",
            "(1, '0.012*\"vuurwerk\" + 0.012*\"ondertussen\" + 0.012*\"allen\" + 0.012*\"dieren\" + 0.012*\"ellende\" + 0.012*\"liefde\" + 0.012*\"zie\" + 0.012*\"zaniken\" + 0.012*\"beelden\" + 0.012*\"hart\"')\n",
            "(2, '0.015*\"natuur\" + 0.009*\"herstellen\" + 0.009*\"miljard\" + 0.009*\"infrastructuur\" + 0.009*\"ontzettend\" + 0.009*\"gelegd\" + 0.009*\"niks\" + 0.009*\"hersteld\" + 0.009*\"opzij\" + 0.009*\"regering\"')\n",
            "(3, '0.009*\"hand\" + 0.009*\"broeikaseffect\" + 0.009*\"kost\" + 0.009*\"sommige\" + 0.009*\"problemen\" + 0.009*\"politici\" + 0.008*\"jaren\" + 0.008*\"klimaatverandering\" + 0.006*\"vraag\" + 0.006*\"aanpak\"')\n",
            "(4, '0.019*\"branden\" + 0.017*\"oorzaak\" + 0.008*\"nergens\" + 0.008*\"vreemde\" + 0.008*\"alleen\" + 0.008*\"vuur\" + 0.008*\"veroorzaker\" + 0.008*\"sigaret\" + 0.008*\"geblust\" + 0.008*\"uitgemaakt\"')\n",
            "(5, '0.009*\"klimaatverandering\" + 0.009*\"australische\" + 0.009*\"gebeurt\" + 0.009*\"laten\" + 0.009*\"australië\" + 0.009*\"gaan\" + 0.008*\"branden\" + 0.008*\"we\" + 0.008*\"zoals\" + 0.008*\"teruggeven\"')\n",
            "(6, '0.004*\"onze\" + 0.004*\"soort\" + 0.004*\"branden\" + 0.004*\"hopen\" + 0.004*\"duren\" + 0.004*\"eigen\" + 0.004*\"australië\" + 0.004*\"we\" + 0.004*\"natuur\" + 0.004*\"vriend\"')\n",
            "(7, '0.018*\"hopen\" + 0.016*\"onze\" + 0.011*\"bedoel\" + 0.011*\"inkeer\" + 0.011*\"thierry\" + 0.011*\"rampen\" + 0.011*\"donald\" + 0.011*\"klimaatsceptici\" + 0.011*\"vriend\" + 0.011*\"begrijpt\"')\n",
            "(8, '0.004*\"we\" + 0.004*\"natuur\" + 0.004*\"hopen\" + 0.004*\"soort\" + 0.004*\"gaat\" + 0.004*\"branden\" + 0.004*\"ellende\" + 0.004*\"australië\" + 0.004*\"klimaatverandering\" + 0.004*\"wel\"')\n",
            "(9, '0.009*\"stikstof\" + 0.009*\"wereld\" + 0.009*\"klein\" + 0.009*\"jaar\" + 0.009*\"hele\" + 0.009*\"landje\" + 0.009*\"uur\" + 0.009*\"volga\" + 0.009*\"mln\" + 0.009*\"komende\"')\n"
          ]
        }
      ]
    }
  ]
}